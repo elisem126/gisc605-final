{
  "nbformat": 4,
  "nbformat_minor": 0,
  "metadata": {
    "colab": {
      "provenance": []
    },
    "kernelspec": {
      "name": "python3",
      "display_name": "Python 3"
    },
    "language_info": {
      "name": "python"
    }
  },
  "cells": [
    {
      "cell_type": "code",
      "execution_count": 4,
      "metadata": {
        "colab": {
          "base_uri": "https://localhost:8080/"
        },
        "id": "GV40aOTmT0Np",
        "outputId": "d1f7fdb9-dec0-4352-e3c5-350e91d8778f"
      },
      "outputs": [
        {
          "output_type": "stream",
          "name": "stdout",
          "text": [
            "Howdy Planet\n"
          ]
        }
      ],
      "source": [
        "\n",
        "\n",
        "def howdy_planet ():\n",
        "  print (\"Howdy Planet\")\n",
        "\n",
        "howdy_planet()\n"
      ]
    },
    {
      "cell_type": "markdown",
      "source": [],
      "metadata": {
        "id": "EBOqEAa9U3tO"
      }
    },
    {
      "cell_type": "code",
      "source": [
        "directions = [\"North\", \"South\",\"East\",\"West\"]\n",
        "\n",
        "for directions in directions:\n",
        "  print(directions)"
      ],
      "metadata": {
        "colab": {
          "base_uri": "https://localhost:8080/"
        },
        "id": "ePRu54l8UzW7",
        "outputId": "3519a85b-ec8f-43c0-d6c9-77e50d59eaa0"
      },
      "execution_count": 7,
      "outputs": [
        {
          "output_type": "stream",
          "name": "stdout",
          "text": [
            "North\n",
            "South\n",
            "East\n",
            "West\n"
          ]
        }
      ]
    },
    {
      "cell_type": "code",
      "source": [],
      "metadata": {
        "id": "fBnSTlz8WPh3"
      },
      "execution_count": null,
      "outputs": []
    }
  ]
}